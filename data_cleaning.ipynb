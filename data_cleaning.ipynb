{
 "cells": [
  {
   "cell_type": "code",
   "execution_count": 66,
   "metadata": {},
   "outputs": [
    {
     "name": "stderr",
     "output_type": "stream",
     "text": [
      "[nltk_data] Downloading package stopwords to /home/gwan/nltk_data...\n",
      "[nltk_data]   Package stopwords is already up-to-date!\n"
     ]
    }
   ],
   "source": [
    "import pandas as pd\n",
    "from sklearn.model_selection import train_test_split\n",
    "import torch\n",
    "from torchtext import data\n",
    "import re \n",
    "import nltk\n",
    "from nltk.corpus import stopwords\n",
    "nltk.download('stopwords')\n",
    "label = pd.read_csv('label.csv') # Labelled Data provided\n",
    "label['id'] = label['id'].apply(lambda x: x.split('-')[0]).astype(int)"
   ]
  },
  {
   "cell_type": "code",
   "execution_count": 67,
   "metadata": {},
   "outputs": [],
   "source": [
    "label.loc[label.annotation == 'rejected','annotation'] = 0.\n",
    "label.loc[label.annotation != 0,'annotation'] = 1\n"
   ]
  },
  {
   "cell_type": "code",
   "execution_count": 68,
   "metadata": {},
   "outputs": [
    {
     "data": {
      "text/html": [
       "<div>\n",
       "<style scoped>\n",
       "    .dataframe tbody tr th:only-of-type {\n",
       "        vertical-align: middle;\n",
       "    }\n",
       "\n",
       "    .dataframe tbody tr th {\n",
       "        vertical-align: top;\n",
       "    }\n",
       "\n",
       "    .dataframe thead th {\n",
       "        text-align: right;\n",
       "    }\n",
       "</style>\n",
       "<table border=\"1\" class=\"dataframe\">\n",
       "  <thead>\n",
       "    <tr style=\"text-align: right;\">\n",
       "      <th></th>\n",
       "      <th>id</th>\n",
       "      <th>begin</th>\n",
       "      <th>end</th>\n",
       "      <th>text</th>\n",
       "      <th>annotation</th>\n",
       "    </tr>\n",
       "  </thead>\n",
       "  <tbody>\n",
       "    <tr>\n",
       "      <th>0</th>\n",
       "      <td>1838283</td>\n",
       "      <td>477</td>\n",
       "      <td>483</td>\n",
       "      <td>NICU nursing progress note\\n\\n\\nPlease refer t...</td>\n",
       "      <td>0.0</td>\n",
       "    </tr>\n",
       "    <tr>\n",
       "      <th>1</th>\n",
       "      <td>1573658</td>\n",
       "      <td>98</td>\n",
       "      <td>106</td>\n",
       "      <td>CCU Nursing Progress Note\\nS-\"I still feel ali...</td>\n",
       "      <td>1</td>\n",
       "    </tr>\n",
       "    <tr>\n",
       "      <th>2</th>\n",
       "      <td>380371</td>\n",
       "      <td>2977</td>\n",
       "      <td>2988</td>\n",
       "      <td>TITLE:\\n   Chief Complaint:  Declining mental ...</td>\n",
       "      <td>0.0</td>\n",
       "    </tr>\n",
       "    <tr>\n",
       "      <th>3</th>\n",
       "      <td>1533008</td>\n",
       "      <td>494</td>\n",
       "      <td>500</td>\n",
       "      <td>Neuro:  Pt movements more vigorous.  Eyes open...</td>\n",
       "      <td>0.0</td>\n",
       "    </tr>\n",
       "    <tr>\n",
       "      <th>4</th>\n",
       "      <td>1472567</td>\n",
       "      <td>1178</td>\n",
       "      <td>1188</td>\n",
       "      <td>SICU Nsg Note\\nNeuro - To CT this am for scan ...</td>\n",
       "      <td>1</td>\n",
       "    </tr>\n",
       "    <tr>\n",
       "      <th>...</th>\n",
       "      <td>...</td>\n",
       "      <td>...</td>\n",
       "      <td>...</td>\n",
       "      <td>...</td>\n",
       "      <td>...</td>\n",
       "    </tr>\n",
       "    <tr>\n",
       "      <th>527</th>\n",
       "      <td>441775</td>\n",
       "      <td>1771</td>\n",
       "      <td>1781</td>\n",
       "      <td>Chief Complaint: rigors\\n   24 Hour Events:\\n ...</td>\n",
       "      <td>1</td>\n",
       "    </tr>\n",
       "    <tr>\n",
       "      <th>528</th>\n",
       "      <td>1465223</td>\n",
       "      <td>453</td>\n",
       "      <td>459</td>\n",
       "      <td>7p to 7a Micu Progress Note\\n\\nNeuro - Pt rema...</td>\n",
       "      <td>0.0</td>\n",
       "    </tr>\n",
       "    <tr>\n",
       "      <th>529</th>\n",
       "      <td>683821</td>\n",
       "      <td>4784</td>\n",
       "      <td>4793</td>\n",
       "      <td>Chief Complaint:  food stuck in throat, fevers...</td>\n",
       "      <td>0.0</td>\n",
       "    </tr>\n",
       "    <tr>\n",
       "      <th>530</th>\n",
       "      <td>1795496</td>\n",
       "      <td>602</td>\n",
       "      <td>608</td>\n",
       "      <td>PCA note 0700-1900\\n\\n\\n1. Resp: [** 360**] re...</td>\n",
       "      <td>0.0</td>\n",
       "    </tr>\n",
       "    <tr>\n",
       "      <th>531</th>\n",
       "      <td>723896</td>\n",
       "      <td>2081</td>\n",
       "      <td>2097</td>\n",
       "      <td>FULL CODE\\n   NKDA\\n   55 y.o. F with morbid o...</td>\n",
       "      <td>1</td>\n",
       "    </tr>\n",
       "  </tbody>\n",
       "</table>\n",
       "<p>532 rows × 5 columns</p>\n",
       "</div>"
      ],
      "text/plain": [
       "          id  begin   end                                               text  \\\n",
       "0    1838283    477   483  NICU nursing progress note\\n\\n\\nPlease refer t...   \n",
       "1    1573658     98   106  CCU Nursing Progress Note\\nS-\"I still feel ali...   \n",
       "2     380371   2977  2988  TITLE:\\n   Chief Complaint:  Declining mental ...   \n",
       "3    1533008    494   500  Neuro:  Pt movements more vigorous.  Eyes open...   \n",
       "4    1472567   1178  1188  SICU Nsg Note\\nNeuro - To CT this am for scan ...   \n",
       "..       ...    ...   ...                                                ...   \n",
       "527   441775   1771  1781  Chief Complaint: rigors\\n   24 Hour Events:\\n ...   \n",
       "528  1465223    453   459  7p to 7a Micu Progress Note\\n\\nNeuro - Pt rema...   \n",
       "529   683821   4784  4793  Chief Complaint:  food stuck in throat, fevers...   \n",
       "530  1795496    602   608  PCA note 0700-1900\\n\\n\\n1. Resp: [** 360**] re...   \n",
       "531   723896   2081  2097  FULL CODE\\n   NKDA\\n   55 y.o. F with morbid o...   \n",
       "\n",
       "    annotation  \n",
       "0          0.0  \n",
       "1            1  \n",
       "2          0.0  \n",
       "3          0.0  \n",
       "4            1  \n",
       "..         ...  \n",
       "527          1  \n",
       "528        0.0  \n",
       "529        0.0  \n",
       "530        0.0  \n",
       "531          1  \n",
       "\n",
       "[532 rows x 5 columns]"
      ]
     },
     "execution_count": 68,
     "metadata": {},
     "output_type": "execute_result"
    }
   ],
   "source": [
    "label"
   ]
  },
  {
   "cell_type": "code",
   "execution_count": 69,
   "metadata": {},
   "outputs": [
    {
     "name": "stderr",
     "output_type": "stream",
     "text": [
      "/tmp/ipykernel_21836/393104755.py:5: SettingWithCopyWarning: \n",
      "A value is trying to be set on a copy of a slice from a DataFrame.\n",
      "Try using .loc[row_indexer,col_indexer] = value instead\n",
      "\n",
      "See the caveats in the documentation: https://pandas.pydata.org/pandas-docs/stable/user_guide/indexing.html#returning-a-view-versus-a-copy\n",
      "  label['annotation'] = label['annotation'].astype(int64)\n"
     ]
    }
   ],
   "source": [
    "from numpy import int64\n",
    "\n",
    "\n",
    "label = label[['id','text','annotation']]\n",
    "label['annotation'] = label['annotation'].astype(int64)"
   ]
  },
  {
   "cell_type": "code",
   "execution_count": 70,
   "metadata": {},
   "outputs": [],
   "source": [
    "def cleanup_text(texts):\n",
    "    text = texts\n",
    "    en_stops = set(stopwords.words('english'))\n",
    "    \n",
    "    # Lower case\n",
    "    text = text.lower()\n",
    "     # remove punctuation\n",
    "    text = re.sub('[^a-zA-Z0-9]', ' ', text)\n",
    "    # remove multiple spaces\n",
    "    text = re.sub(r' +', ' ', text)\n",
    "    # remove newline\n",
    "    text = re.sub(r'\\n', ' ', text)\n",
    "    # Remove stopwords\n",
    "    filtered_words = [word for word in text.split(' ') if word not in stopwords.words('english')]\n",
    "    return ' '.join(filtered_words)"
   ]
  },
  {
   "cell_type": "code",
   "execution_count": 71,
   "metadata": {},
   "outputs": [
    {
     "name": "stderr",
     "output_type": "stream",
     "text": [
      "/tmp/ipykernel_21836/4204269916.py:1: SettingWithCopyWarning: \n",
      "A value is trying to be set on a copy of a slice from a DataFrame.\n",
      "Try using .loc[row_indexer,col_indexer] = value instead\n",
      "\n",
      "See the caveats in the documentation: https://pandas.pydata.org/pandas-docs/stable/user_guide/indexing.html#returning-a-view-versus-a-copy\n",
      "  label['text'] = label['text'].apply(cleanup_text)\n"
     ]
    }
   ],
   "source": [
    "label['text'] = label['text'].apply(cleanup_text)\n",
    "\n",
    "# Split data\n",
    "validation_percent = 0.20\n",
    "\n",
    "# Split data into train / validate\n",
    "train,test = train_test_split(label,test_size=validation_percent,random_state = 10)"
   ]
  },
  {
   "cell_type": "code",
   "execution_count": 73,
   "metadata": {},
   "outputs": [
    {
     "data": {
      "text/plain": [
       "0      nicu nursing progress note please refer flowsh...\n",
       "1      ccu nursing progress note still feel alittle n...\n",
       "2      title chief complaint declining mental status ...\n",
       "3      neuro pt movements vigorous eyes open often re...\n",
       "4      sicu nsg note neuro ct scan head showed atroph...\n",
       "                             ...                        \n",
       "527    chief complaint rigors 24 hour events 3 12 eve...\n",
       "528    7p 7a micu progress note neuro pt remains mini...\n",
       "529    chief complaint food stuck throat fevers cough...\n",
       "530    pca note 0700 1900 1 resp 360 remains ra rr 30...\n",
       "531    full code nkda 55 f morbid obesity htn recent ...\n",
       "Name: text, Length: 532, dtype: object"
      ]
     },
     "execution_count": 73,
     "metadata": {},
     "output_type": "execute_result"
    }
   ],
   "source": [
    "label.text"
   ]
  },
  {
   "cell_type": "code",
   "execution_count": 74,
   "metadata": {},
   "outputs": [],
   "source": [
    "train.to_csv('train.csv',index = False)\n",
    "test.to_csv('test.csv',index =False)"
   ]
  },
  {
   "cell_type": "code",
   "execution_count": null,
   "metadata": {},
   "outputs": [],
   "source": []
  }
 ],
 "metadata": {
  "kernelspec": {
   "display_name": "Python 3.9.13 ('base': conda)",
   "language": "python",
   "name": "python3"
  },
  "language_info": {
   "codemirror_mode": {
    "name": "ipython",
    "version": 3
   },
   "file_extension": ".py",
   "mimetype": "text/x-python",
   "name": "python",
   "nbconvert_exporter": "python",
   "pygments_lexer": "ipython3",
   "version": "3.9.13"
  },
  "orig_nbformat": 4,
  "vscode": {
   "interpreter": {
    "hash": "5e785c52e1a28ad980bef155e7f9c26fcc6dca216df0c4e690729e404ede1f14"
   }
  }
 },
 "nbformat": 4,
 "nbformat_minor": 2
}
