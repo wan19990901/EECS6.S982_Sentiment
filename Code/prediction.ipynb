{
 "cells": [
  {
   "cell_type": "code",
   "execution_count": 1,
   "metadata": {},
   "outputs": [],
   "source": [
    "# Author: Guangya Wan\n",
    "import pandas as pd\n",
    "import torch\n",
    "from transformers import AutoModelForSequenceClassification\n",
    "from transformers import AutoTokenizer\n",
    "from transformers import TrainingArguments, Trainer\n",
    "from datasets import Dataset\n",
    "from sklearn.metrics import precision_recall_fscore_support,accuracy_score"
   ]
  },
  {
   "cell_type": "code",
   "execution_count": 2,
   "metadata": {},
   "outputs": [],
   "source": [
    "def tokenize_function(examples):\n",
    "    return tokenizer(examples[\"text\"], padding=\"max_length\", truncation=True, return_tensors=\"pt\")"
   ]
  },
  {
   "cell_type": "code",
   "execution_count": 3,
   "metadata": {},
   "outputs": [],
   "source": [
    "task='sentiment'\n",
    "MODEL = \"cffl/bert-base-styleclassification-subjective-neutral\"\n",
    "tokenizer = AutoTokenizer.from_pretrained(MODEL)\n",
    "OUTPUT_DIR = 'model/'\n",
    "model = AutoModelForSequenceClassification.from_pretrained(OUTPUT_DIR, num_labels=2)"
   ]
  },
  {
   "cell_type": "code",
   "execution_count": 4,
   "metadata": {},
   "outputs": [],
   "source": [
    "test_args = TrainingArguments(\n",
    "    output_dir = OUTPUT_DIR,\n",
    "    do_train = False,\n",
    "    do_predict = True,\n",
    "    dataloader_drop_last = False    \n",
    ")\n",
    "def compute_metrics(pred):\n",
    "    labels = pred.label_ids\n",
    "    preds = pred.predictions.argmax(-1)\n",
    "    precision, recall, f1, _ = precision_recall_fscore_support(labels, preds, average='binary')\n",
    "    acc = accuracy_score(labels, preds)\n",
    "    return {\n",
    "        'accuracy': acc,\n",
    "        'f1': f1,\n",
    "        'precision': precision,\n",
    "        'recall': recall\n",
    "    }\n",
    "# init trainer\n",
    "trainer = Trainer(\n",
    "              model = model, \n",
    "              args = test_args, \n",
    "              compute_metrics = compute_metrics)"
   ]
  },
  {
   "cell_type": "code",
   "execution_count": 5,
   "metadata": {},
   "outputs": [
    {
     "data": {
      "text/plain": [
       "'11.7'"
      ]
     },
     "execution_count": 5,
     "metadata": {},
     "output_type": "execute_result"
    }
   ],
   "source": [
    "train = pd.read_csv('train.csv')\n",
    "test = pd.read_csv('test.csv')\n",
    "torch.version.cuda"
   ]
  },
  {
   "cell_type": "markdown",
   "metadata": {},
   "source": [
    "# Test Data Set"
   ]
  },
  {
   "cell_type": "code",
   "execution_count": 6,
   "metadata": {},
   "outputs": [
    {
     "data": {
      "application/vnd.jupyter.widget-view+json": {
       "model_id": "73b2c45dcc1e4600b2a9661889dca318",
       "version_major": 2,
       "version_minor": 0
      },
      "text/plain": [
       "  0%|          | 0/1 [00:00<?, ?ba/s]"
      ]
     },
     "metadata": {},
     "output_type": "display_data"
    }
   ],
   "source": [
    "\n",
    "test_dataset = Dataset.from_pandas(test)\n",
    "tokenized_test = test_dataset.map(tokenize_function, batched=True)\n",
    "# small_eval_dataset = tokenized_test.shuffle(seed=42)"
   ]
  },
  {
   "cell_type": "code",
   "execution_count": 7,
   "metadata": {},
   "outputs": [
    {
     "name": "stderr",
     "output_type": "stream",
     "text": [
      "The following columns in the test set don't have a corresponding argument in `BertForSequenceClassification.forward` and have been ignored: index, text. If index, text are not expected by `BertForSequenceClassification.forward`,  you can safely ignore this message.\n",
      "***** Running Prediction *****\n",
      "  Num examples = 54\n",
      "  Batch size = 8\n"
     ]
    },
    {
     "data": {
      "text/html": [],
      "text/plain": [
       "<IPython.core.display.HTML object>"
      ]
     },
     "metadata": {},
     "output_type": "display_data"
    }
   ],
   "source": [
    "outputs = trainer.predict(tokenized_test,)"
   ]
  },
  {
   "cell_type": "code",
   "execution_count": 8,
   "metadata": {},
   "outputs": [
    {
     "data": {
      "text/plain": [
       "PredictionOutput(predictions=array([[-0.256801  ,  0.85258865],\n",
       "       [-2.1723344 ,  2.3142848 ],\n",
       "       [-1.701721  ,  2.4667428 ],\n",
       "       [-2.128658  ,  2.2271502 ],\n",
       "       [ 2.7089434 , -2.6564345 ],\n",
       "       [-0.17499343,  0.79968244],\n",
       "       [ 2.3784063 , -2.934221  ],\n",
       "       [ 2.2547934 , -2.0893302 ],\n",
       "       [-1.1163455 ,  1.6364365 ],\n",
       "       [ 1.3339628 , -1.4635692 ],\n",
       "       [-2.0258543 ,  2.3486369 ],\n",
       "       [-0.28248513,  0.28417462],\n",
       "       [ 0.7916322 , -0.7153313 ],\n",
       "       [ 1.4161899 , -0.9917636 ],\n",
       "       [-0.31521732,  1.3464507 ],\n",
       "       [ 0.8659477 , -0.90648746],\n",
       "       [ 1.7215713 , -1.4797647 ],\n",
       "       [-1.5413129 ,  1.6693183 ],\n",
       "       [ 2.740786  , -2.8851473 ],\n",
       "       [-2.1785998 ,  2.6935947 ],\n",
       "       [ 2.075655  , -1.8945365 ],\n",
       "       [-2.0238085 ,  2.4038649 ],\n",
       "       [-2.1874907 ,  2.2107763 ],\n",
       "       [ 1.8919607 , -1.7716042 ],\n",
       "       [ 1.1168371 , -0.9992223 ],\n",
       "       [-2.151534  ,  2.1534872 ],\n",
       "       [ 1.2912964 , -1.2051965 ],\n",
       "       [-2.002926  ,  2.3518755 ],\n",
       "       [-2.2492068 ,  2.5377367 ],\n",
       "       [ 1.9478617 , -2.0239134 ],\n",
       "       [-1.639772  ,  2.4197576 ],\n",
       "       [ 2.5803368 , -2.893526  ],\n",
       "       [-1.5895755 ,  1.3502847 ],\n",
       "       [-1.3555609 ,  2.3009746 ],\n",
       "       [ 0.33100474, -0.23545577],\n",
       "       [-1.1967895 ,  2.0557313 ],\n",
       "       [ 2.4431643 , -2.62416   ],\n",
       "       [ 1.4753808 , -1.4755391 ],\n",
       "       [-1.7901496 ,  2.3975344 ],\n",
       "       [ 1.971432  , -1.5681599 ],\n",
       "       [ 1.7359316 , -1.5370152 ],\n",
       "       [ 1.8390068 , -1.9705163 ],\n",
       "       [-1.4791619 ,  2.1949375 ],\n",
       "       [-1.262713  ,  1.8234177 ],\n",
       "       [ 0.85121405, -0.79088837],\n",
       "       [ 1.0046519 , -1.0015404 ],\n",
       "       [ 2.4440236 , -2.7688177 ],\n",
       "       [ 1.6826415 , -1.5689477 ],\n",
       "       [-1.6471438 ,  2.366091  ],\n",
       "       [ 1.9468988 , -1.7927129 ],\n",
       "       [-1.2284775 ,  1.2693843 ],\n",
       "       [ 2.1634622 , -1.8838935 ],\n",
       "       [ 2.0839226 , -2.0541334 ],\n",
       "       [ 2.1685996 , -1.9488101 ]], dtype=float32), label_ids=array([1, 1, 1, 1, 0, 1, 0, 0, 1, 0, 1, 1, 0, 0, 1, 0, 0, 1, 0, 1, 0, 1,\n",
       "       1, 0, 0, 1, 0, 1, 1, 0, 1, 0, 1, 1, 0, 1, 0, 0, 1, 0, 0, 0, 1, 1,\n",
       "       0, 0, 0, 0, 1, 0, 1, 0, 0, 0]), metrics={'test_loss': 0.0667329877614975, 'test_accuracy': 1.0, 'test_f1': 1.0, 'test_precision': 1.0, 'test_recall': 1.0, 'test_runtime': 5.7256, 'test_samples_per_second': 9.431, 'test_steps_per_second': 1.223})"
      ]
     },
     "execution_count": 8,
     "metadata": {},
     "output_type": "execute_result"
    }
   ],
   "source": [
    "outputs"
   ]
  },
  {
   "cell_type": "code",
   "execution_count": 9,
   "metadata": {},
   "outputs": [],
   "source": [
    "from scipy.special import softmax\n",
    "\n",
    "probabilities = softmax(outputs.predictions, axis=1)"
   ]
  },
  {
   "cell_type": "code",
   "execution_count": 10,
   "metadata": {},
   "outputs": [],
   "source": [
    "test['probabilities'] = probabilities[:,1]"
   ]
  },
  {
   "cell_type": "code",
   "execution_count": 11,
   "metadata": {},
   "outputs": [],
   "source": [
    "test.to_csv('test_predictions.csv',index = False)"
   ]
  },
  {
   "cell_type": "code",
   "execution_count": 12,
   "metadata": {},
   "outputs": [],
   "source": [
    "test['pred'] = (test.probabilities > 0.5).astype(int)"
   ]
  },
  {
   "cell_type": "code",
   "execution_count": 13,
   "metadata": {},
   "outputs": [
    {
     "data": {
      "text/plain": [
       "1.0"
      ]
     },
     "execution_count": 13,
     "metadata": {},
     "output_type": "execute_result"
    }
   ],
   "source": [
    "accuracy_score(test['labels'],test['pred'])"
   ]
  },
  {
   "cell_type": "code",
   "execution_count": 14,
   "metadata": {},
   "outputs": [
    {
     "data": {
      "text/plain": [
       "array([[0.24798466, 0.7520152 ],\n",
       "       [0.01113329, 0.98886675],\n",
       "       [0.01524016, 0.9847598 ],\n",
       "       [0.01266949, 0.98733056],\n",
       "       [0.2739495 , 0.7260505 ],\n",
       "       [0.05992973, 0.94007033],\n",
       "       [0.0124379 , 0.98756194],\n",
       "       [0.3620079 , 0.637992  ],\n",
       "       [0.1595382 , 0.8404618 ],\n",
       "       [0.03876761, 0.9612324 ],\n",
       "       [0.00759837, 0.99240154],\n",
       "       [0.01180131, 0.98819864],\n",
       "       [0.01214922, 0.98785096],\n",
       "       [0.01332076, 0.98667926],\n",
       "       [0.01268208, 0.98731774],\n",
       "       [0.00826896, 0.991731  ],\n",
       "       [0.01696438, 0.9830357 ],\n",
       "       [0.05021793, 0.949782  ],\n",
       "       [0.02517183, 0.9748281 ],\n",
       "       [0.03723641, 0.96276355],\n",
       "       [0.01495438, 0.98504555],\n",
       "       [0.02474443, 0.9752556 ],\n",
       "       [0.04368299, 0.956317  ],\n",
       "       [0.01775393, 0.9822459 ],\n",
       "       [0.07600822, 0.92399186]], dtype=float32)"
      ]
     },
     "execution_count": 14,
     "metadata": {},
     "output_type": "execute_result"
    }
   ],
   "source": [
    "probabilities[test['labels'] == 1]"
   ]
  },
  {
   "cell_type": "code",
   "execution_count": 11,
   "metadata": {},
   "outputs": [
    {
     "data": {
      "text/plain": [
       "array([[0.99095595, 0.0090441 ],\n",
       "       [0.9935286 , 0.00647133],\n",
       "       [0.9622714 , 0.03772854],\n",
       "       [0.8420813 , 0.15791874],\n",
       "       [0.25179487, 0.74820507],\n",
       "       [0.64627016, 0.35373   ],\n",
       "       [0.42599162, 0.57400835],\n",
       "       [0.8294193 , 0.1705807 ],\n",
       "       [0.9943116 , 0.00568833],\n",
       "       [0.91429234, 0.08570758],\n",
       "       [0.84626204, 0.153738  ],\n",
       "       [0.7084335 , 0.29156643],\n",
       "       [0.5827314 , 0.41726863],\n",
       "       [0.949606  , 0.05039398],\n",
       "       [0.9932672 , 0.00673287],\n",
       "       [0.19329505, 0.80670494],\n",
       "       [0.9829319 , 0.01706796],\n",
       "       [0.46155322, 0.5384468 ],\n",
       "       [0.8949669 , 0.10503314],\n",
       "       [0.87242573, 0.12757427],\n",
       "       [0.7009775 , 0.29902247],\n",
       "       [0.43779004, 0.5622099 ],\n",
       "       [0.6472107 , 0.35278934],\n",
       "       [0.987899  , 0.01210117],\n",
       "       [0.8006129 , 0.19938701],\n",
       "       [0.58786684, 0.4121332 ],\n",
       "       [0.9413115 , 0.0586886 ],\n",
       "       [0.957323  , 0.04267703],\n",
       "       [0.91697055, 0.08302935]], dtype=float32)"
      ]
     },
     "execution_count": 11,
     "metadata": {},
     "output_type": "execute_result"
    }
   ],
   "source": [
    "probabilities[test['labels'] == 0]"
   ]
  },
  {
   "cell_type": "code",
   "execution_count": 12,
   "metadata": {},
   "outputs": [
    {
     "data": {
      "text/plain": [
       "0.9144827586206896"
      ]
     },
     "execution_count": 12,
     "metadata": {},
     "output_type": "execute_result"
    }
   ],
   "source": [
    "from sklearn.metrics import roc_auc_score\n",
    "roc_auc_score(y_score= probabilities[:,1],y_true= test['labels'])"
   ]
  },
  {
   "cell_type": "markdown",
   "metadata": {},
   "source": [
    "# Unlabelled Data Set"
   ]
  },
  {
   "cell_type": "code",
   "execution_count": 5,
   "metadata": {},
   "outputs": [
    {
     "name": "stderr",
     "output_type": "stream",
     "text": [
      "/tmp/ipykernel_8593/1717572994.py:2: DtypeWarning: Columns (0) have mixed types. Specify dtype option on import or set low_memory=False.\n",
      "  eval = pd.read_csv('processed_patients.csv')\n"
     ]
    }
   ],
   "source": [
    "import numpy as np\n",
    "eval = pd.read_csv('processed_patients.csv')\n",
    "# eval['id'] = eval['id'].astype(str)"
   ]
  },
  {
   "cell_type": "code",
   "execution_count": 23,
   "metadata": {},
   "outputs": [],
   "source": [
    "import re\n",
    "def cleanup_text(texts):\n",
    "    text = texts\n",
    "    if (len(texts) < 20):\n",
    "        return np.nan\n",
    "    # Lower case\n",
    "    text = text.lower()\n",
    "    # remove newline\n",
    "    text = re.sub(r'\\n', ' ', text)    # remove multiple spaces\n",
    "    text = re.sub(r' +', ' ', text)\n",
    "    return text\n",
    "eval = eval.dropna() # Drop na first\n",
    "eval = eval.rename(columns={\"TEXT\": \"text\"}) # Whatever the text column is convert name to text\n",
    "eval['text'] = eval['text'].apply(cleanup_text)"
   ]
  },
  {
   "cell_type": "code",
   "execution_count": 24,
   "metadata": {},
   "outputs": [],
   "source": [
    "eval = eval.dropna() # Drop na which means drop sentence less than 20 char"
   ]
  },
  {
   "cell_type": "code",
   "execution_count": 25,
   "metadata": {},
   "outputs": [],
   "source": [
    "eval_dataset = Dataset.from_pandas(eval['text'].to_frame().sample(100))"
   ]
  },
  {
   "cell_type": "code",
   "execution_count": 17,
   "metadata": {},
   "outputs": [
    {
     "data": {
      "application/vnd.jupyter.widget-view+json": {
       "model_id": "07db168ffba4442bb1ff324d64af3032",
       "version_major": 2,
       "version_minor": 0
      },
      "text/plain": [
       "  0%|          | 0/1 [00:00<?, ?ba/s]"
      ]
     },
     "metadata": {},
     "output_type": "display_data"
    }
   ],
   "source": [
    "tokenized_eval = eval_dataset.map(tokenize_function, batched=True)"
   ]
  },
  {
   "cell_type": "code",
   "execution_count": 26,
   "metadata": {},
   "outputs": [
    {
     "data": {
      "text/plain": [
       "Dataset({\n",
       "    features: ['text', '__index_level_0__', 'input_ids', 'token_type_ids', 'attention_mask'],\n",
       "    num_rows: 100\n",
       "})"
      ]
     },
     "execution_count": 26,
     "metadata": {},
     "output_type": "execute_result"
    }
   ],
   "source": [
    "tokenized_eval"
   ]
  },
  {
   "cell_type": "code",
   "execution_count": 18,
   "metadata": {},
   "outputs": [
    {
     "name": "stderr",
     "output_type": "stream",
     "text": [
      "The following columns in the test set  don't have a corresponding argument in `BertForSequenceClassification.forward` and have been ignored: text, __index_level_0__. If text, __index_level_0__ are not expected by `BertForSequenceClassification.forward`,  you can safely ignore this message.\n",
      "***** Running Prediction *****\n",
      "  Num examples = 100\n",
      "  Batch size = 8\n"
     ]
    },
    {
     "data": {
      "text/html": [
       "\n",
       "    <div>\n",
       "      \n",
       "      <progress value='13' max='13' style='width:300px; height:20px; vertical-align: middle;'></progress>\n",
       "      [13/13 00:01]\n",
       "    </div>\n",
       "    "
      ],
      "text/plain": [
       "<IPython.core.display.HTML object>"
      ]
     },
     "metadata": {},
     "output_type": "display_data"
    }
   ],
   "source": [
    "outputs = trainer.predict(tokenized_eval,)"
   ]
  },
  {
   "cell_type": "code",
   "execution_count": 19,
   "metadata": {},
   "outputs": [
    {
     "data": {
      "text/plain": [
       "PredictionOutput(predictions=array([[ 2.955892  , -3.521742  ],\n",
       "       [ 3.3117762 , -3.0167885 ],\n",
       "       [ 2.7260418 , -2.5441046 ],\n",
       "       [ 0.65205806, -1.1281118 ],\n",
       "       [-0.7974271 ,  1.4403678 ],\n",
       "       [ 1.7743489 , -1.5260421 ],\n",
       "       [-0.51125383,  0.9007026 ],\n",
       "       [-1.8720144 ,  1.8484101 ],\n",
       "       [-1.4168795 ,  1.2892256 ],\n",
       "       [ 2.6220958 , -3.0318375 ],\n",
       "       [ 3.0215437 , -3.44546   ],\n",
       "       [ 2.6685863 , -3.1301293 ],\n",
       "       [ 2.868391  , -3.481456  ],\n",
       "       [ 1.3689501 , -0.6396107 ],\n",
       "       [ 2.482686  , -2.1361067 ],\n",
       "       [ 2.687508  , -2.6987927 ],\n",
       "       [ 2.7971416 , -3.1717882 ],\n",
       "       [ 2.718708  , -2.8110213 ],\n",
       "       [ 0.7240331 , -0.5909944 ],\n",
       "       [ 1.6643157 , -1.7611349 ],\n",
       "       [ 2.9263136 , -3.6171637 ],\n",
       "       [ 1.7664194 , -2.007171  ],\n",
       "       [ 2.3827415 , -2.6525214 ],\n",
       "       [ 3.1204548 , -2.8637335 ],\n",
       "       [ 3.3703945 , -3.096777  ],\n",
       "       [ 2.2599864 , -2.1405942 ],\n",
       "       [ 2.5588884 , -2.4083033 ],\n",
       "       [ 3.243876  , -3.3699586 ],\n",
       "       [-0.7974271 ,  1.4403678 ],\n",
       "       [-0.3719481 ,  1.307922  ],\n",
       "       [ 1.6436796 , -1.5442684 ],\n",
       "       [ 2.4215431 , -2.6292436 ],\n",
       "       [ 1.3689501 , -0.6396107 ],\n",
       "       [ 2.625567  , -2.3966196 ],\n",
       "       [-1.1592091 ,  1.2188205 ],\n",
       "       [ 2.589335  , -2.106119  ],\n",
       "       [ 2.0625014 , -1.9525199 ],\n",
       "       [ 3.2759693 , -3.0972817 ],\n",
       "       [ 3.2645352 , -2.9816551 ],\n",
       "       [ 2.461631  , -2.475995  ],\n",
       "       [ 3.0845106 , -2.9257772 ],\n",
       "       [-0.35629636,  0.66602945],\n",
       "       [ 3.2949083 , -3.0638404 ],\n",
       "       [ 1.3910025 , -0.9850935 ],\n",
       "       [ 2.4289083 , -2.3923905 ],\n",
       "       [ 0.13039534, -0.26359713],\n",
       "       [ 0.10500378,  0.08565084],\n",
       "       [-1.706152  ,  1.6205652 ],\n",
       "       [-0.7974271 ,  1.4403678 ],\n",
       "       [ 2.1365955 , -2.0410683 ],\n",
       "       [ 3.0413864 , -3.0478535 ],\n",
       "       [ 2.5860574 , -1.9539917 ],\n",
       "       [ 2.812823  , -2.355188  ],\n",
       "       [ 1.7510679 , -1.2557898 ],\n",
       "       [-1.348071  ,  1.1753379 ],\n",
       "       [ 0.7055231 , -0.7946297 ],\n",
       "       [ 2.1083684 , -1.6792419 ],\n",
       "       [ 0.6077001 , -0.6601093 ],\n",
       "       [ 3.0719728 , -3.4809046 ],\n",
       "       [ 3.4482217 , -3.3698764 ],\n",
       "       [ 3.0234356 , -2.9082308 ],\n",
       "       [ 2.4475942 , -2.5080223 ],\n",
       "       [-0.16658112,  0.14039767],\n",
       "       [ 2.5434837 , -2.6704385 ],\n",
       "       [ 1.4770097 , -0.8023398 ],\n",
       "       [ 1.2311351 , -0.9639312 ],\n",
       "       [ 1.0913476 , -1.1378692 ],\n",
       "       [ 1.626115  , -0.7682351 ],\n",
       "       [-1.910415  ,  1.5994503 ],\n",
       "       [ 1.2818171 , -1.8612628 ],\n",
       "       [ 2.8412488 , -2.6093583 ],\n",
       "       [ 1.993161  , -1.6862291 ],\n",
       "       [ 3.0699847 , -3.1296482 ],\n",
       "       [ 1.959461  , -1.9152033 ],\n",
       "       [ 1.9611411 , -1.882118  ],\n",
       "       [ 1.5336567 , -1.6661274 ],\n",
       "       [ 1.3770626 , -1.2208639 ],\n",
       "       [ 2.182263  , -2.0765133 ],\n",
       "       [ 0.68432546, -0.05308964],\n",
       "       [ 2.353826  , -2.410809  ],\n",
       "       [-0.162345  , -0.00611029],\n",
       "       [ 0.9403886 , -1.3705881 ],\n",
       "       [ 0.5519707 , -0.34711134],\n",
       "       [ 1.3810285 , -1.2029438 ],\n",
       "       [ 2.2841868 , -1.8208601 ],\n",
       "       [ 3.1777434 , -2.9472315 ],\n",
       "       [ 0.21076252, -0.10312846],\n",
       "       [ 2.8095114 , -2.5197546 ],\n",
       "       [ 0.47636583,  0.07254542],\n",
       "       [ 2.7575197 , -2.6374686 ],\n",
       "       [ 2.7805073 , -3.1479068 ],\n",
       "       [ 2.9865396 , -3.5444348 ],\n",
       "       [ 0.6096508 , -1.153683  ],\n",
       "       [-0.35402444,  0.53769124],\n",
       "       [ 1.5844109 , -1.4048206 ],\n",
       "       [ 3.1301775 , -3.2645488 ],\n",
       "       [ 2.5916662 , -2.6527643 ],\n",
       "       [-0.13352607, -0.25292465],\n",
       "       [ 2.6655204 , -2.2369576 ],\n",
       "       [-0.5268651 ,  1.168748  ]], dtype=float32), label_ids=None, metrics={'test_runtime': 3.9357, 'test_samples_per_second': 25.409, 'test_steps_per_second': 3.303})"
      ]
     },
     "execution_count": 19,
     "metadata": {},
     "output_type": "execute_result"
    }
   ],
   "source": [
    "outputs"
   ]
  },
  {
   "cell_type": "code",
   "execution_count": 20,
   "metadata": {},
   "outputs": [],
   "source": [
    "from scipy.special import softmax\n",
    "\n",
    "probabilities = softmax(outputs.predictions, axis=1)[:,1]"
   ]
  },
  {
   "cell_type": "code",
   "execution_count": 22,
   "metadata": {},
   "outputs": [
    {
     "data": {
      "text/plain": [
       "array([0.00153508, 0.00178141, 0.00511654, 0.14428216, 0.9035925 ,\n",
       "       0.03555778, 0.80407435, 0.9763492 , 0.937386  , 0.00349148,\n",
       "       0.00155146, 0.00302228, 0.00174397, 0.11830702, 0.00976834,\n",
       "       0.00455801, 0.00255046, 0.00395139, 0.21164675, 0.03150947,\n",
       "       0.00143741, 0.0224537 , 0.00646245, 0.00251193, 0.0015512 ,\n",
       "       0.01212148, 0.00691453, 0.00133988, 0.9035925 , 0.84288746,\n",
       "       0.0396218 , 0.00636354, 0.11830702, 0.00654696, 0.9151365 ,\n",
       "       0.009054  , 0.01772281, 0.00170369, 0.00193408, 0.00712054,\n",
       "       0.00244738, 0.73542535, 0.00172854, 0.08501375, 0.00799193,\n",
       "       0.40275657, 0.49516192, 0.9653341 , 0.9035925 , 0.0151027 ,\n",
       "       0.002262  , 0.01056018, 0.00566363, 0.04711702, 0.9257666 ,\n",
       "       0.18240276, 0.02214801, 0.21963249, 0.00142398, 0.0010926 ,\n",
       "       0.00264703, 0.00699447, 0.5761477 , 0.00541086, 0.09284773,\n",
       "       0.10019439, 0.09715731, 0.08360453, 0.97096723, 0.04136482,\n",
       "       0.00427534, 0.02461707, 0.00202606, 0.02033904, 0.02097432,\n",
       "       0.03917384, 0.06927198, 0.01394246, 0.32356966, 0.00845392,\n",
       "       0.5389795 , 0.09021795, 0.28923917, 0.07017709, 0.01622176,\n",
       "       0.00218277, 0.42216527, 0.00482424, 0.4003948 , 0.00451876,\n",
       "       0.00265563, 0.00145546, 0.1463733 , 0.709244  , 0.04791474,\n",
       "       0.00166756, 0.00524913, 0.4701858 , 0.00737338, 0.8449609 ],\n",
       "      dtype=float32)"
      ]
     },
     "execution_count": 22,
     "metadata": {},
     "output_type": "execute_result"
    }
   ],
   "source": [
    "probabilities"
   ]
  },
  {
   "cell_type": "code",
   "execution_count": 21,
   "metadata": {},
   "outputs": [
    {
     "ename": "ValueError",
     "evalue": "Length of values (100) does not match length of index (2428629)",
     "output_type": "error",
     "traceback": [
      "\u001b[0;31m---------------------------------------------------------------------------\u001b[0m",
      "\u001b[0;31mValueError\u001b[0m                                Traceback (most recent call last)",
      "\u001b[0;32m/tmp/ipykernel_8593/817342849.py\u001b[0m in \u001b[0;36m<module>\u001b[0;34m\u001b[0m\n\u001b[0;32m----> 1\u001b[0;31m \u001b[0meval\u001b[0m\u001b[0;34m[\u001b[0m\u001b[0;34m'subjective_prob'\u001b[0m\u001b[0;34m]\u001b[0m \u001b[0;34m=\u001b[0m \u001b[0mprobabilities\u001b[0m\u001b[0;34m\u001b[0m\u001b[0;34m\u001b[0m\u001b[0m\n\u001b[0m",
      "\u001b[0;32m~/miniconda3/lib/python3.9/site-packages/pandas/core/frame.py\u001b[0m in \u001b[0;36m__setitem__\u001b[0;34m(self, key, value)\u001b[0m\n\u001b[1;32m   3653\u001b[0m         \u001b[0;32melse\u001b[0m\u001b[0;34m:\u001b[0m\u001b[0;34m\u001b[0m\u001b[0;34m\u001b[0m\u001b[0m\n\u001b[1;32m   3654\u001b[0m             \u001b[0;31m# set column\u001b[0m\u001b[0;34m\u001b[0m\u001b[0;34m\u001b[0m\u001b[0m\n\u001b[0;32m-> 3655\u001b[0;31m             \u001b[0mself\u001b[0m\u001b[0;34m.\u001b[0m\u001b[0m_set_item\u001b[0m\u001b[0;34m(\u001b[0m\u001b[0mkey\u001b[0m\u001b[0;34m,\u001b[0m \u001b[0mvalue\u001b[0m\u001b[0;34m)\u001b[0m\u001b[0;34m\u001b[0m\u001b[0;34m\u001b[0m\u001b[0m\n\u001b[0m\u001b[1;32m   3656\u001b[0m \u001b[0;34m\u001b[0m\u001b[0m\n\u001b[1;32m   3657\u001b[0m     \u001b[0;32mdef\u001b[0m \u001b[0m_setitem_slice\u001b[0m\u001b[0;34m(\u001b[0m\u001b[0mself\u001b[0m\u001b[0;34m,\u001b[0m \u001b[0mkey\u001b[0m\u001b[0;34m:\u001b[0m \u001b[0mslice\u001b[0m\u001b[0;34m,\u001b[0m \u001b[0mvalue\u001b[0m\u001b[0;34m)\u001b[0m\u001b[0;34m:\u001b[0m\u001b[0;34m\u001b[0m\u001b[0;34m\u001b[0m\u001b[0m\n",
      "\u001b[0;32m~/miniconda3/lib/python3.9/site-packages/pandas/core/frame.py\u001b[0m in \u001b[0;36m_set_item\u001b[0;34m(self, key, value)\u001b[0m\n\u001b[1;32m   3830\u001b[0m         \u001b[0mensure\u001b[0m \u001b[0mhomogeneity\u001b[0m\u001b[0;34m.\u001b[0m\u001b[0;34m\u001b[0m\u001b[0;34m\u001b[0m\u001b[0m\n\u001b[1;32m   3831\u001b[0m         \"\"\"\n\u001b[0;32m-> 3832\u001b[0;31m         \u001b[0mvalue\u001b[0m \u001b[0;34m=\u001b[0m \u001b[0mself\u001b[0m\u001b[0;34m.\u001b[0m\u001b[0m_sanitize_column\u001b[0m\u001b[0;34m(\u001b[0m\u001b[0mvalue\u001b[0m\u001b[0;34m)\u001b[0m\u001b[0;34m\u001b[0m\u001b[0;34m\u001b[0m\u001b[0m\n\u001b[0m\u001b[1;32m   3833\u001b[0m \u001b[0;34m\u001b[0m\u001b[0m\n\u001b[1;32m   3834\u001b[0m         if (\n",
      "\u001b[0;32m~/miniconda3/lib/python3.9/site-packages/pandas/core/frame.py\u001b[0m in \u001b[0;36m_sanitize_column\u001b[0;34m(self, value)\u001b[0m\n\u001b[1;32m   4536\u001b[0m \u001b[0;34m\u001b[0m\u001b[0m\n\u001b[1;32m   4537\u001b[0m         \u001b[0;32mif\u001b[0m \u001b[0mis_list_like\u001b[0m\u001b[0;34m(\u001b[0m\u001b[0mvalue\u001b[0m\u001b[0;34m)\u001b[0m\u001b[0;34m:\u001b[0m\u001b[0;34m\u001b[0m\u001b[0;34m\u001b[0m\u001b[0m\n\u001b[0;32m-> 4538\u001b[0;31m             \u001b[0mcom\u001b[0m\u001b[0;34m.\u001b[0m\u001b[0mrequire_length_match\u001b[0m\u001b[0;34m(\u001b[0m\u001b[0mvalue\u001b[0m\u001b[0;34m,\u001b[0m \u001b[0mself\u001b[0m\u001b[0;34m.\u001b[0m\u001b[0mindex\u001b[0m\u001b[0;34m)\u001b[0m\u001b[0;34m\u001b[0m\u001b[0;34m\u001b[0m\u001b[0m\n\u001b[0m\u001b[1;32m   4539\u001b[0m         \u001b[0;32mreturn\u001b[0m \u001b[0msanitize_array\u001b[0m\u001b[0;34m(\u001b[0m\u001b[0mvalue\u001b[0m\u001b[0;34m,\u001b[0m \u001b[0mself\u001b[0m\u001b[0;34m.\u001b[0m\u001b[0mindex\u001b[0m\u001b[0;34m,\u001b[0m \u001b[0mcopy\u001b[0m\u001b[0;34m=\u001b[0m\u001b[0;32mTrue\u001b[0m\u001b[0;34m,\u001b[0m \u001b[0mallow_2d\u001b[0m\u001b[0;34m=\u001b[0m\u001b[0;32mTrue\u001b[0m\u001b[0;34m)\u001b[0m\u001b[0;34m\u001b[0m\u001b[0;34m\u001b[0m\u001b[0m\n\u001b[1;32m   4540\u001b[0m \u001b[0;34m\u001b[0m\u001b[0m\n",
      "\u001b[0;32m~/miniconda3/lib/python3.9/site-packages/pandas/core/common.py\u001b[0m in \u001b[0;36mrequire_length_match\u001b[0;34m(data, index)\u001b[0m\n\u001b[1;32m    555\u001b[0m     \"\"\"\n\u001b[1;32m    556\u001b[0m     \u001b[0;32mif\u001b[0m \u001b[0mlen\u001b[0m\u001b[0;34m(\u001b[0m\u001b[0mdata\u001b[0m\u001b[0;34m)\u001b[0m \u001b[0;34m!=\u001b[0m \u001b[0mlen\u001b[0m\u001b[0;34m(\u001b[0m\u001b[0mindex\u001b[0m\u001b[0;34m)\u001b[0m\u001b[0;34m:\u001b[0m\u001b[0;34m\u001b[0m\u001b[0;34m\u001b[0m\u001b[0m\n\u001b[0;32m--> 557\u001b[0;31m         raise ValueError(\n\u001b[0m\u001b[1;32m    558\u001b[0m             \u001b[0;34m\"Length of values \"\u001b[0m\u001b[0;34m\u001b[0m\u001b[0;34m\u001b[0m\u001b[0m\n\u001b[1;32m    559\u001b[0m             \u001b[0;34mf\"({len(data)}) \"\u001b[0m\u001b[0;34m\u001b[0m\u001b[0;34m\u001b[0m\u001b[0m\n",
      "\u001b[0;31mValueError\u001b[0m: Length of values (100) does not match length of index (2428629)"
     ]
    }
   ],
   "source": [
    "eval['subjective_prob'] = probabilities"
   ]
  },
  {
   "cell_type": "code",
   "execution_count": 16,
   "metadata": {},
   "outputs": [],
   "source": [
    "eval.to_csv('result.csv',index = False)"
   ]
  },
  {
   "cell_type": "code",
   "execution_count": 17,
   "metadata": {},
   "outputs": [
    {
     "data": {
      "text/html": [
       "<div>\n",
       "<style scoped>\n",
       "    .dataframe tbody tr th:only-of-type {\n",
       "        vertical-align: middle;\n",
       "    }\n",
       "\n",
       "    .dataframe tbody tr th {\n",
       "        vertical-align: top;\n",
       "    }\n",
       "\n",
       "    .dataframe thead th {\n",
       "        text-align: right;\n",
       "    }\n",
       "</style>\n",
       "<table border=\"1\" class=\"dataframe\">\n",
       "  <thead>\n",
       "    <tr style=\"text-align: right;\">\n",
       "      <th></th>\n",
       "      <th>id</th>\n",
       "      <th>text</th>\n",
       "      <th>subjective_prob</th>\n",
       "    </tr>\n",
       "  </thead>\n",
       "  <tbody>\n",
       "    <tr>\n",
       "      <th>284032</th>\n",
       "      <td>24509.0</td>\n",
       "      <td>the mitral valve leaflets are structurally nor...</td>\n",
       "      <td>0.001372</td>\n",
       "    </tr>\n",
       "    <tr>\n",
       "      <th>246211</th>\n",
       "      <td>21298</td>\n",
       "      <td>this flattens the dorsal thecal sac and produc...</td>\n",
       "      <td>0.004339</td>\n",
       "    </tr>\n",
       "    <tr>\n",
       "      <th>13506</th>\n",
       "      <td>1095</td>\n",
       "      <td>impression: 1) decreased size of the third ven...</td>\n",
       "      <td>0.930260</td>\n",
       "    </tr>\n",
       "    <tr>\n",
       "      <th>69192</th>\n",
       "      <td>5933</td>\n",
       "      <td>is npo and housestaff discussed plan to tube f...</td>\n",
       "      <td>0.993198</td>\n",
       "    </tr>\n",
       "    <tr>\n",
       "      <th>77868</th>\n",
       "      <td>6659</td>\n",
       "      <td>takes mdis poorly as well. bronch done this af...</td>\n",
       "      <td>0.696344</td>\n",
       "    </tr>\n",
       "    <tr>\n",
       "      <th>...</th>\n",
       "      <td>...</td>\n",
       "      <td>...</td>\n",
       "      <td>...</td>\n",
       "    </tr>\n",
       "    <tr>\n",
       "      <th>432991</th>\n",
       "      <td>41446.0</td>\n",
       "      <td>there is no pericardial effusion microbiology:...</td>\n",
       "      <td>0.254323</td>\n",
       "    </tr>\n",
       "    <tr>\n",
       "      <th>274753</th>\n",
       "      <td>23726.0</td>\n",
       "      <td>there is mild regional systolic dysfunction wi...</td>\n",
       "      <td>0.004399</td>\n",
       "    </tr>\n",
       "    <tr>\n",
       "      <th>148239</th>\n",
       "      <td>12708</td>\n",
       "      <td>ns 250cc bolus ordered. and awaiting response....</td>\n",
       "      <td>0.347187</td>\n",
       "    </tr>\n",
       "    <tr>\n",
       "      <th>174471</th>\n",
       "      <td>15013</td>\n",
       "      <td>coronary artery disease: the patient had clean...</td>\n",
       "      <td>0.027851</td>\n",
       "    </tr>\n",
       "    <tr>\n",
       "      <th>147158</th>\n",
       "      <td>12608</td>\n",
       "      <td>30am blood glucose-98 urean-8 creat-0.9 na-139...</td>\n",
       "      <td>0.003930</td>\n",
       "    </tr>\n",
       "  </tbody>\n",
       "</table>\n",
       "<p>50000 rows × 3 columns</p>\n",
       "</div>"
      ],
      "text/plain": [
       "             id                                               text  \\\n",
       "284032  24509.0  the mitral valve leaflets are structurally nor...   \n",
       "246211    21298  this flattens the dorsal thecal sac and produc...   \n",
       "13506      1095  impression: 1) decreased size of the third ven...   \n",
       "69192      5933  is npo and housestaff discussed plan to tube f...   \n",
       "77868      6659  takes mdis poorly as well. bronch done this af...   \n",
       "...         ...                                                ...   \n",
       "432991  41446.0  there is no pericardial effusion microbiology:...   \n",
       "274753  23726.0  there is mild regional systolic dysfunction wi...   \n",
       "148239    12708  ns 250cc bolus ordered. and awaiting response....   \n",
       "174471    15013  coronary artery disease: the patient had clean...   \n",
       "147158    12608  30am blood glucose-98 urean-8 creat-0.9 na-139...   \n",
       "\n",
       "        subjective_prob  \n",
       "284032         0.001372  \n",
       "246211         0.004339  \n",
       "13506          0.930260  \n",
       "69192          0.993198  \n",
       "77868          0.696344  \n",
       "...                 ...  \n",
       "432991         0.254323  \n",
       "274753         0.004399  \n",
       "148239         0.347187  \n",
       "174471         0.027851  \n",
       "147158         0.003930  \n",
       "\n",
       "[50000 rows x 3 columns]"
      ]
     },
     "execution_count": 17,
     "metadata": {},
     "output_type": "execute_result"
    },
    {
     "ename": "",
     "evalue": "",
     "output_type": "error",
     "traceback": [
      "\u001b[1;31mThe Kernel crashed while executing code in the the current cell or a previous cell. Please review the code in the cell(s) to identify a possible cause of the failure. Click <a href='https://aka.ms/vscodeJupyterKernelCrash'>here</a> for more info. View Jupyter <a href='command:jupyter.viewOutput'>log</a> for further details."
     ]
    }
   ],
   "source": [
    "eval"
   ]
  },
  {
   "cell_type": "code",
   "execution_count": null,
   "metadata": {},
   "outputs": [],
   "source": []
  }
 ],
 "metadata": {
  "kernelspec": {
   "display_name": "Python 3.9.13 ('base': conda)",
   "language": "python",
   "name": "python3"
  },
  "language_info": {
   "codemirror_mode": {
    "name": "ipython",
    "version": 3
   },
   "file_extension": ".py",
   "mimetype": "text/x-python",
   "name": "python",
   "nbconvert_exporter": "python",
   "pygments_lexer": "ipython3",
   "version": "3.9.13"
  },
  "orig_nbformat": 4,
  "vscode": {
   "interpreter": {
    "hash": "5e785c52e1a28ad980bef155e7f9c26fcc6dca216df0c4e690729e404ede1f14"
   }
  }
 },
 "nbformat": 4,
 "nbformat_minor": 2
}
