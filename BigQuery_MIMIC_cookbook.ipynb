{
  "nbformat": 4,
  "nbformat_minor": 0,
  "metadata": {
    "colab": {
      "provenance": [],
      "collapsed_sections": [
        "Clwvaif8NcoR"
      ],
      "include_colab_link": true
    },
    "kernelspec": {
      "name": "python3",
      "display_name": "Python 3"
    }
  },
  "cells": [
    {
      "cell_type": "markdown",
      "metadata": {
        "id": "view-in-github",
        "colab_type": "text"
      },
      "source": [
        "<a href=\"https://colab.research.google.com/github/wan19990901/EECS6.S982_Sentiment/blob/sentiment_gwan/BigQuery_MIMIC_cookbook.ipynb\" target=\"_parent\"><img src=\"https://colab.research.google.com/assets/colab-badge.svg\" alt=\"Open In Colab\"/></a>"
      ]
    },
    {
      "cell_type": "markdown",
      "metadata": {
        "id": "HVEZqhD4yvMl"
      },
      "source": [
        "See more at: https://pandas-gbq.readthedocs.io/en/latest/intro.html#logging"
      ]
    },
    {
      "cell_type": "code",
      "metadata": {
        "id": "XNOn8jJnUEdW"
      },
      "source": [
        "# Required files\n",
        "import os\n",
        "import sys\n",
        "import pandas as pd\n",
        "import pandas_gbq\n",
        "import re\n",
        "\n",
        "# Connect colab with google bigquery stuff\n",
        "from google.colab import auth\n",
        "from google.cloud import bigquery\n",
        "from google.colab import files\n",
        "from google.colab import drive"
      ],
      "execution_count": null,
      "outputs": []
    },
    {
      "cell_type": "markdown",
      "metadata": {
        "id": "65z2NYbNUfLV"
      },
      "source": [
        "**Authenticate:** The line of code below ensures you are an authenticated user accessing the MIMIC database. You will need to rerun this each time you open the notebook."
      ]
    },
    {
      "cell_type": "code",
      "metadata": {
        "id": "YM0L4jaSUbyS"
      },
      "source": [
        "auth.authenticate_user()"
      ],
      "execution_count": null,
      "outputs": []
    },
    {
      "cell_type": "markdown",
      "metadata": {
        "id": "7U1neLQeUzbD"
      },
      "source": [
        "**Query Function:** This is a method that executes a desired SQL query on the database. If you want to run a query, you can use the function name below, which we named run_query()"
      ]
    },
    {
      "cell_type": "code",
      "metadata": {
        "id": "MxfqC7euUnU-"
      },
      "source": [
        "\n",
        "project_id='rising-medley-364700' # Unique to each person\n",
        "os.environ[\"GOOGLE_CLOUD_PROJECT\"]=project_id"
      ],
      "execution_count": null,
      "outputs": []
    },
    {
      "cell_type": "code",
      "metadata": {
        "id": "LRCYRe7RVHEJ"
      },
      "source": [
        "# Your regular sql query\n",
        "\n",
        "# For example:\n",
        "query = '''\n",
        "SELECT \n",
        "notes.ROW_ID,\n",
        "icu.ICUSTAY_ID,\n",
        "notes.TEXT,\n",
        "hw.weight_first/((hw.height_first/100) * (hw.height_first/100)) as BMI\n",
        "\n",
        " FROM `physionet-data.mimiciii_notes.noteevents` as notes\n",
        " inner join `physionet-data.mimiciii_clinical.icustays` as icu\n",
        " on icu.ROW_ID = notes.ROW_ID\n",
        "\n",
        " inner join `physionet-data.mimiciii_derived.heightweight` as hw\n",
        " on hw.icustay_id = icu.ICUSTAY_ID\n",
        "\n",
        " where hw.weight_first is not null and hw.height_first is not null\n",
        " \n",
        "'''\n",
        "\n",
        "## Note that for we have to be careful on ID matching"
      ],
      "execution_count": null,
      "outputs": []
    },
    {
      "cell_type": "code",
      "source": [
        "# Then directly query mimic data -- takes about a minute to run\n",
        "heightreports = pandas_gbq.read_gbq(query, project_id=project_id, dialect = 'standard')"
      ],
      "metadata": {
        "colab": {
          "base_uri": "https://localhost:8080/"
        },
        "id": "6Wzt0eKM0lyc",
        "outputId": "47bb331f-c2d2-428e-dacf-df30a62d5c92"
      },
      "execution_count": null,
      "outputs": [
        {
          "output_type": "stream",
          "name": "stderr",
          "text": [
            "\n",
            "Downloading:   0%|          | 0/28892 [00:00<?, ?rows/s]\u001b[A\n",
            "Downloading:   4%|▎         | 1080/28892 [00:15<06:46, 68.45rows/s]\u001b[A\n",
            "Downloading:   8%|▊         | 2230/28892 [00:31<06:13, 71.41rows/s]\u001b[A\n",
            "Downloading:   8%|▊         | 2230/28892 [00:44<06:13, 71.41rows/s]\u001b[A\n",
            "Downloading:  11%|█▏        | 3314/28892 [00:47<06:05, 69.94rows/s]\u001b[A\n",
            "Downloading:  15%|█▌        | 4424/28892 [01:03<05:51, 69.67rows/s]\u001b[A\n",
            "Downloading:  15%|█▌        | 4424/28892 [01:14<05:51, 69.67rows/s]\u001b[A\n",
            "Downloading:  19%|█▉        | 5545/28892 [01:19<05:38, 69.06rows/s]\u001b[A\n",
            "Downloading:  19%|█▉        | 5545/28892 [01:34<05:38, 69.06rows/s]\u001b[A\n",
            "Downloading:  23%|██▎       | 6653/28892 [01:35<05:22, 68.99rows/s]\u001b[A\n",
            "Downloading:  27%|██▋       | 7748/28892 [01:51<05:06, 68.95rows/s]\u001b[A\n",
            "Downloading:  27%|██▋       | 7748/28892 [02:04<05:06, 68.95rows/s]\u001b[A\n",
            "Downloading:  31%|███       | 8831/28892 [02:07<04:52, 68.61rows/s]\u001b[A\n",
            "Downloading:  34%|███▍      | 9954/28892 [02:23<04:33, 69.19rows/s]\u001b[A\n",
            "Downloading:  34%|███▍      | 9954/28892 [02:34<04:33, 69.19rows/s]\u001b[A\n",
            "Downloading:  38%|███▊      | 11092/28892 [02:40<04:16, 69.31rows/s]\u001b[A\n",
            "Downloading:  38%|███▊      | 11092/28892 [02:54<04:16, 69.31rows/s]\u001b[A\n",
            "Downloading:  42%|████▏     | 12175/28892 [02:56<04:04, 68.49rows/s]\u001b[A\n",
            "Downloading:  46%|████▌     | 13311/28892 [03:12<03:45, 69.12rows/s]\u001b[A\n",
            "Downloading:  46%|████▌     | 13311/28892 [03:24<03:45, 69.12rows/s]\u001b[A\n",
            "Downloading:  50%|█████     | 14465/28892 [03:28<03:26, 70.00rows/s]\u001b[A\n",
            "Downloading:  50%|█████     | 14465/28892 [03:44<03:26, 70.00rows/s]\u001b[A\n",
            "Downloading:  54%|█████▍    | 15575/28892 [03:44<03:10, 69.92rows/s]\u001b[A\n",
            "Downloading:  58%|█████▊    | 16680/28892 [04:00<02:57, 68.96rows/s]\u001b[A\n",
            "Downloading:  58%|█████▊    | 16680/28892 [04:14<02:57, 68.96rows/s]\u001b[A\n",
            "Downloading:  61%|██████▏   | 17752/28892 [04:16<02:42, 68.45rows/s]\u001b[A\n",
            "Downloading:  65%|██████▌   | 18862/28892 [04:32<02:25, 68.73rows/s]\u001b[A\n",
            "Downloading:  65%|██████▌   | 18862/28892 [04:44<02:25, 68.73rows/s]\u001b[A\n",
            "Downloading:  69%|██████▉   | 20005/28892 [04:48<02:08, 69.35rows/s]\u001b[A\n",
            "Downloading:  69%|██████▉   | 20005/28892 [05:04<02:08, 69.35rows/s]\u001b[A\n",
            "Downloading:  73%|███████▎  | 21109/28892 [05:06<01:54, 67.93rows/s]\u001b[A\n",
            "Downloading:  77%|███████▋  | 22251/28892 [05:22<01:36, 68.49rows/s]\u001b[A\n",
            "Downloading:  77%|███████▋  | 22251/28892 [05:34<01:36, 68.49rows/s]\u001b[A\n",
            "Downloading:  81%|████████  | 23343/28892 [05:38<01:21, 68.48rows/s]\u001b[A\n",
            "Downloading:  81%|████████  | 23343/28892 [05:54<01:21, 68.48rows/s]\u001b[A\n",
            "Downloading:  85%|████████▍ | 24485/28892 [05:54<01:03, 68.93rows/s]\u001b[A\n",
            "Downloading:  89%|████████▊ | 25595/28892 [06:10<00:47, 68.81rows/s]\u001b[A\n",
            "Downloading:  89%|████████▊ | 25595/28892 [06:24<00:47, 68.81rows/s]\u001b[A\n",
            "Downloading:  92%|█████████▏| 26689/28892 [06:26<00:31, 68.98rows/s]\u001b[A\n",
            "Downloading:  96%|█████████▋| 27848/28892 [06:42<00:14, 69.84rows/s]\u001b[A\n",
            "Downloading:  96%|█████████▋| 27848/28892 [06:54<00:14, 69.84rows/s]\u001b[A\n",
            "Downloading: 100%|██████████| 28892/28892 [06:57<00:00, 69.26rows/s]\n"
          ]
        }
      ]
    },
    {
      "cell_type": "code",
      "source": [
        "cutoff = 35\n",
        "heightreports['obesity'] = 0\n",
        "heightreports[heightreports.BMI > cutoff]['BMI'] = 1"
      ],
      "metadata": {
        "id": "TKAfFtk8XJWg",
        "colab": {
          "base_uri": "https://localhost:8080/"
        },
        "outputId": "a089b8c9-8927-4da3-ca7c-6aa33c70284a"
      },
      "execution_count": null,
      "outputs": [
        {
          "output_type": "stream",
          "name": "stderr",
          "text": [
            "/usr/local/lib/python3.7/dist-packages/ipykernel_launcher.py:3: SettingWithCopyWarning: \n",
            "A value is trying to be set on a copy of a slice from a DataFrame.\n",
            "Try using .loc[row_indexer,col_indexer] = value instead\n",
            "\n",
            "See the caveats in the documentation: https://pandas.pydata.org/pandas-docs/stable/user_guide/indexing.html#returning-a-view-versus-a-copy\n",
            "  This is separate from the ipykernel package so we can avoid doing imports until\n"
          ]
        }
      ]
    },
    {
      "cell_type": "code",
      "source": [
        "heightreports['BMI'] = heightreports['BMI'].astype('float')"
      ],
      "metadata": {
        "id": "-T9_oe57mk2k"
      },
      "execution_count": null,
      "outputs": []
    },
    {
      "cell_type": "code",
      "source": [
        "heightreports.to_csv('bmi.csv',index = False)"
      ],
      "metadata": {
        "id": "rWI25bga0orZ"
      },
      "execution_count": null,
      "outputs": []
    },
    {
      "cell_type": "markdown",
      "metadata": {
        "id": "Clwvaif8NcoR"
      },
      "source": [
        "# Exported derived dataset back to BiqQuery for later analysis"
      ]
    },
    {
      "cell_type": "code",
      "metadata": {
        "id": "lEyBuerVVYbO",
        "colab": {
          "base_uri": "https://localhost:8080/"
        },
        "outputId": "f78d8689-b704-447b-da93-032eab4bcf40"
      },
      "source": [
        "\n",
        "table_id = 'mimic_cohort.obesity'\n",
        "\n",
        "pandas_gbq.to_gbq(heightreports, table_id, project_id=project_id) # using 35 as threshold"
      ],
      "execution_count": null,
      "outputs": [
        {
          "output_type": "stream",
          "name": "stderr",
          "text": [
            "\n",
            "0it [00:00, ?it/s]\u001b[A\n",
            "1it [01:32, 92.64s/it]\n"
          ]
        }
      ]
    },
    {
      "cell_type": "code",
      "source": [
        "query = '''\n",
        "SELECT \n",
        "*\n",
        "FROM mimic_cohort.obesity\n",
        "'''\n",
        "obesity = pandas_gbq.read_gbq(query, project_id=project_id, dialect = 'standard')"
      ],
      "metadata": {
        "id": "mR0H1P35lSuM",
        "colab": {
          "base_uri": "https://localhost:8080/"
        },
        "outputId": "a0abd9c3-cc77-4454-8d66-9d0624fd1333"
      },
      "execution_count": null,
      "outputs": [
        {
          "output_type": "stream",
          "name": "stderr",
          "text": [
            "Downloading: 100%|██████████| 28892/28892 [02:07<00:00, 226.81rows/s]\n"
          ]
        }
      ]
    },
    {
      "cell_type": "code",
      "source": [
        "obesity['sentiment'] = 0"
      ],
      "metadata": {
        "id": "lH9fiFOH5MkI"
      },
      "execution_count": null,
      "outputs": []
    },
    {
      "cell_type": "code",
      "source": [
        "obesity.loc[obesity.TEXT.str.lower().str.contains('very | pleasant'),'sentiment'] = 1"
      ],
      "metadata": {
        "id": "PryzasG65NB-"
      },
      "execution_count": null,
      "outputs": []
    },
    {
      "cell_type": "code",
      "source": [
        "obesity['obesity'] = 0\n",
        "obesity.loc[obesity.BMI > 40,'obesity'] = 1"
      ],
      "metadata": {
        "id": "_Kl8zRLl7Yzh"
      },
      "execution_count": null,
      "outputs": []
    },
    {
      "cell_type": "code",
      "source": [
        "obesity.groupby([\n",
        "  'obesity','sentiment'\n",
        "]).size().to_csv('obesity_count.csv')"
      ],
      "metadata": {
        "id": "jMp5_zVa7w4U"
      },
      "execution_count": null,
      "outputs": []
    },
    {
      "cell_type": "code",
      "source": [
        "pd.read_csv('obesity_count.csv')"
      ],
      "metadata": {
        "colab": {
          "base_uri": "https://localhost:8080/",
          "height": 175
        },
        "id": "9Ew6q7Jr8OzN",
        "outputId": "98f8e230-c69c-4df5-b879-f7b6d089c3e7"
      },
      "execution_count": null,
      "outputs": [
        {
          "output_type": "execute_result",
          "data": {
            "text/plain": [
              "   obesity  sentiment      0\n",
              "0        0          0   8663\n",
              "1        0          1  18584\n",
              "2        1          0    541\n",
              "3        1          1   1104"
            ],
            "text/html": [
              "\n",
              "  <div id=\"df-6ad0cd34-5072-4ed4-984d-2d10361d6651\">\n",
              "    <div class=\"colab-df-container\">\n",
              "      <div>\n",
              "<style scoped>\n",
              "    .dataframe tbody tr th:only-of-type {\n",
              "        vertical-align: middle;\n",
              "    }\n",
              "\n",
              "    .dataframe tbody tr th {\n",
              "        vertical-align: top;\n",
              "    }\n",
              "\n",
              "    .dataframe thead th {\n",
              "        text-align: right;\n",
              "    }\n",
              "</style>\n",
              "<table border=\"1\" class=\"dataframe\">\n",
              "  <thead>\n",
              "    <tr style=\"text-align: right;\">\n",
              "      <th></th>\n",
              "      <th>obesity</th>\n",
              "      <th>sentiment</th>\n",
              "      <th>0</th>\n",
              "    </tr>\n",
              "  </thead>\n",
              "  <tbody>\n",
              "    <tr>\n",
              "      <th>0</th>\n",
              "      <td>0</td>\n",
              "      <td>0</td>\n",
              "      <td>8663</td>\n",
              "    </tr>\n",
              "    <tr>\n",
              "      <th>1</th>\n",
              "      <td>0</td>\n",
              "      <td>1</td>\n",
              "      <td>18584</td>\n",
              "    </tr>\n",
              "    <tr>\n",
              "      <th>2</th>\n",
              "      <td>1</td>\n",
              "      <td>0</td>\n",
              "      <td>541</td>\n",
              "    </tr>\n",
              "    <tr>\n",
              "      <th>3</th>\n",
              "      <td>1</td>\n",
              "      <td>1</td>\n",
              "      <td>1104</td>\n",
              "    </tr>\n",
              "  </tbody>\n",
              "</table>\n",
              "</div>\n",
              "      <button class=\"colab-df-convert\" onclick=\"convertToInteractive('df-6ad0cd34-5072-4ed4-984d-2d10361d6651')\"\n",
              "              title=\"Convert this dataframe to an interactive table.\"\n",
              "              style=\"display:none;\">\n",
              "        \n",
              "  <svg xmlns=\"http://www.w3.org/2000/svg\" height=\"24px\"viewBox=\"0 0 24 24\"\n",
              "       width=\"24px\">\n",
              "    <path d=\"M0 0h24v24H0V0z\" fill=\"none\"/>\n",
              "    <path d=\"M18.56 5.44l.94 2.06.94-2.06 2.06-.94-2.06-.94-.94-2.06-.94 2.06-2.06.94zm-11 1L8.5 8.5l.94-2.06 2.06-.94-2.06-.94L8.5 2.5l-.94 2.06-2.06.94zm10 10l.94 2.06.94-2.06 2.06-.94-2.06-.94-.94-2.06-.94 2.06-2.06.94z\"/><path d=\"M17.41 7.96l-1.37-1.37c-.4-.4-.92-.59-1.43-.59-.52 0-1.04.2-1.43.59L10.3 9.45l-7.72 7.72c-.78.78-.78 2.05 0 2.83L4 21.41c.39.39.9.59 1.41.59.51 0 1.02-.2 1.41-.59l7.78-7.78 2.81-2.81c.8-.78.8-2.07 0-2.86zM5.41 20L4 18.59l7.72-7.72 1.47 1.35L5.41 20z\"/>\n",
              "  </svg>\n",
              "      </button>\n",
              "      \n",
              "  <style>\n",
              "    .colab-df-container {\n",
              "      display:flex;\n",
              "      flex-wrap:wrap;\n",
              "      gap: 12px;\n",
              "    }\n",
              "\n",
              "    .colab-df-convert {\n",
              "      background-color: #E8F0FE;\n",
              "      border: none;\n",
              "      border-radius: 50%;\n",
              "      cursor: pointer;\n",
              "      display: none;\n",
              "      fill: #1967D2;\n",
              "      height: 32px;\n",
              "      padding: 0 0 0 0;\n",
              "      width: 32px;\n",
              "    }\n",
              "\n",
              "    .colab-df-convert:hover {\n",
              "      background-color: #E2EBFA;\n",
              "      box-shadow: 0px 1px 2px rgba(60, 64, 67, 0.3), 0px 1px 3px 1px rgba(60, 64, 67, 0.15);\n",
              "      fill: #174EA6;\n",
              "    }\n",
              "\n",
              "    [theme=dark] .colab-df-convert {\n",
              "      background-color: #3B4455;\n",
              "      fill: #D2E3FC;\n",
              "    }\n",
              "\n",
              "    [theme=dark] .colab-df-convert:hover {\n",
              "      background-color: #434B5C;\n",
              "      box-shadow: 0px 1px 3px 1px rgba(0, 0, 0, 0.15);\n",
              "      filter: drop-shadow(0px 1px 2px rgba(0, 0, 0, 0.3));\n",
              "      fill: #FFFFFF;\n",
              "    }\n",
              "  </style>\n",
              "\n",
              "      <script>\n",
              "        const buttonEl =\n",
              "          document.querySelector('#df-6ad0cd34-5072-4ed4-984d-2d10361d6651 button.colab-df-convert');\n",
              "        buttonEl.style.display =\n",
              "          google.colab.kernel.accessAllowed ? 'block' : 'none';\n",
              "\n",
              "        async function convertToInteractive(key) {\n",
              "          const element = document.querySelector('#df-6ad0cd34-5072-4ed4-984d-2d10361d6651');\n",
              "          const dataTable =\n",
              "            await google.colab.kernel.invokeFunction('convertToInteractive',\n",
              "                                                     [key], {});\n",
              "          if (!dataTable) return;\n",
              "\n",
              "          const docLinkHtml = 'Like what you see? Visit the ' +\n",
              "            '<a target=\"_blank\" href=https://colab.research.google.com/notebooks/data_table.ipynb>data table notebook</a>'\n",
              "            + ' to learn more about interactive tables.';\n",
              "          element.innerHTML = '';\n",
              "          dataTable['output_type'] = 'display_data';\n",
              "          await google.colab.output.renderOutput(dataTable, element);\n",
              "          const docLink = document.createElement('div');\n",
              "          docLink.innerHTML = docLinkHtml;\n",
              "          element.appendChild(docLink);\n",
              "        }\n",
              "      </script>\n",
              "    </div>\n",
              "  </div>\n",
              "  "
            ]
          },
          "metadata": {},
          "execution_count": 38
        }
      ]
    },
    {
      "cell_type": "code",
      "source": [],
      "metadata": {
        "id": "JjeTqRmf9gni"
      },
      "execution_count": null,
      "outputs": []
    }
  ]
}